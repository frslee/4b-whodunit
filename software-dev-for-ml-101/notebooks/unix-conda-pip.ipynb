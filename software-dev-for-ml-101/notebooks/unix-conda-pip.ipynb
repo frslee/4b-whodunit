{
 "cells": [
  {
   "cell_type": "markdown",
   "id": "399f6d9e",
   "metadata": {},
   "source": [
    "# Unix - Conda - Pip"
   ]
  },
  {
   "cell_type": "markdown",
   "id": "ef16b651",
   "metadata": {},
   "source": [
    "We run commands in CLI, e.g., Terminal, but here we are using Jupyter Notebook to demonstrate:\n",
    "\n",
    "1. Output from commands\n",
    "2. That when experiementing or developing programs in the notebook, you can avoid switching tools.\n",
    "3. That you can install pacakges in the beginning of the notebook (e.g., Sagemaker) so it's clear what packages are used."
   ]
  },
  {
   "cell_type": "markdown",
   "id": "944d1a51",
   "metadata": {},
   "source": [
    "## Unix commands"
   ]
  },
  {
   "cell_type": "markdown",
   "id": "f70f6301",
   "metadata": {},
   "source": [
    "### Basics"
   ]
  },
  {
   "cell_type": "markdown",
   "id": "a32b0652",
   "metadata": {},
   "source": [
    "For some of the basic commands, you can run use the cell to run it directly:"
   ]
  },
  {
   "cell_type": "code",
   "execution_count": 1,
   "id": "001e8c71",
   "metadata": {},
   "outputs": [
    {
     "data": {
      "text/plain": [
       "'/mnt/f/4thbr/code/4bmle9/software-dev-for-ml-101/notebooks'"
      ]
     },
     "execution_count": 1,
     "metadata": {},
     "output_type": "execute_result"
    }
   ],
   "source": [
    "pwd # print working directory"
   ]
  },
  {
   "cell_type": "markdown",
   "id": "00bf36c2",
   "metadata": {},
   "source": [
    "You always want to know \"where you are\" and how to look for help. Use `man` to display the user manual of any command that we can run on the terminal. "
   ]
  },
  {
   "cell_type": "code",
   "execution_count": 2,
   "id": "0e1d0b83",
   "metadata": {},
   "outputs": [],
   "source": [
    "man pwd # press ESC to exit"
   ]
  },
  {
   "cell_type": "markdown",
   "id": "5a2b554f",
   "metadata": {},
   "source": [
    "Further, cell magic `%%bash` turns a cell into a bash script where you can run multiple lines (See more cell/line magics [here](https://ipython.readthedocs.io/en/stable/interactive/magics.html)). "
   ]
  },
  {
   "cell_type": "code",
   "execution_count": 3,
   "id": "a0641721",
   "metadata": {},
   "outputs": [
    {
     "name": "stdout",
     "output_type": "stream",
     "text": [
      "/mnt/f/4thbr/code/4bmle9/software-dev-for-ml-101/notebooks\n",
      "total 40K\n",
      "drwxr-xr-x 1 fsl fsl 512 Aug 10 13:40 .\n",
      "drwxr-xr-x 1 fsl fsl 512 Aug 10 12:51 ..\n",
      "drwxr-xr-x 1 fsl fsl 512 Aug 10 13:38 .ipynb_checkpoints\n",
      "-rw-r--r-- 1 fsl fsl 37K Aug 10 13:40 unix-conda-pip.ipynb\n"
     ]
    }
   ],
   "source": [
    "%%bash\n",
    "pwd\n",
    "ls -lah # WE DO: What are those flags for?\n",
    "\n",
    "# fsl\n",
    "# ls flags:\n",
    "# -l long format including permissions\n",
    "# -h (with -l flag) human readable file sizes\n",
    "# -a show hidden files including those beginning with '.'"
   ]
  },
  {
   "cell_type": "markdown",
   "id": "4d5a8316",
   "metadata": {},
   "source": [
    "### Download a data file"
   ]
  },
  {
   "cell_type": "markdown",
   "id": "71675d92",
   "metadata": {},
   "source": [
    "Let's download some data from [Census Income Data Set](https://archive.ics.uci.edu/ml/datasets/Census+Income); but first we would like to make a new directory to store the data at the same level as `nb` directory."
   ]
  },
  {
   "cell_type": "code",
   "execution_count": 5,
   "id": "3b75c995",
   "metadata": {},
   "outputs": [
    {
     "name": "stdout",
     "output_type": "stream",
     "text": [
      "/mnt/f/4thbr/code/4bmle9/software-dev-for-ml-101\n",
      "total 20K\n",
      "drwxr-xr-x 1 fsl fsl 512 Aug 10 12:51 .\n",
      "drwxr-xr-x 1 fsl fsl 512 Aug 10 13:06 ..\n",
      "drwxr-xr-x 1 fsl fsl 512 Aug 10 13:48 notebooks\n",
      "-rw-r--r-- 1 fsl fsl 17K Aug 10 12:51 software-dev-for-ml-101.md\n"
     ]
    }
   ],
   "source": [
    "%%bash\n",
    "cd ..\n",
    "# WE DO: make a new diretory called `dat` under the project root directory\n",
    "pwd\n",
    "ls -lah\n",
    "mkdir dat\n"
   ]
  },
  {
   "cell_type": "markdown",
   "id": "8e4f5671",
   "metadata": {},
   "source": [
    "Let's confirm that we just created an empty directory `dat` using command `tree`. Not all command can be run in the cell directly, adding ! in front of command can do the trick:"
   ]
  },
  {
   "cell_type": "code",
   "execution_count": 8,
   "id": "f2771931",
   "metadata": {},
   "outputs": [
    {
     "name": "stdout",
     "output_type": "stream",
     "text": [
      "/mnt/f/4thbr/code/4bmle9/software-dev-for-ml-101\n",
      "total 20K\n",
      "drwxr-xr-x 1 fsl fsl 512 Aug 10 13:48 .\n",
      "drwxr-xr-x 1 fsl fsl 512 Aug 10 13:06 ..\n",
      "drwxr-xr-x 1 fsl fsl 512 Aug 10 13:48 dat\n",
      "drwxr-xr-x 1 fsl fsl 512 Aug 10 13:58 notebooks\n",
      "-rw-r--r-- 1 fsl fsl 17K Aug 10 12:51 software-dev-for-ml-101.md\n"
     ]
    }
   ],
   "source": [
    "%%bash\n",
    "cd ..\n",
    "pwd\n",
    "ls -lah"
   ]
  },
  {
   "cell_type": "code",
   "execution_count": 9,
   "id": "0a31b61f",
   "metadata": {},
   "outputs": [
    {
     "name": "stdout",
     "output_type": "stream",
     "text": [
      "/bin/bash: tree: command not found\r\n"
     ]
    }
   ],
   "source": [
    "!tree .. -L 2"
   ]
  },
  {
   "cell_type": "code",
   "execution_count": 10,
   "id": "273eed2c",
   "metadata": {},
   "outputs": [
    {
     "name": "stdout",
     "output_type": "stream",
     "text": [
      "--2022-08-10 13:59:56--  https://archive.ics.uci.edu/ml/machine-learning-databases/adult/adult.data\n",
      "Resolving archive.ics.uci.edu (archive.ics.uci.edu)... 128.195.10.252\n",
      "Connecting to archive.ics.uci.edu (archive.ics.uci.edu)|128.195.10.252|:443... connected.\n",
      "HTTP request sent, awaiting response... 200 OK\n",
      "Length: 3974305 (3.8M) [application/x-httpd-php]\n",
      "Saving to: ‘../dat/adult.csv’\n",
      "\n",
      "../dat/adult.csv    100%[===================>]   3.79M  6.48MB/s    in 0.6s    \n",
      "\n",
      "2022-08-10 13:59:57 (6.48 MB/s) - ‘../dat/adult.csv’ saved [3974305/3974305]\n",
      "\n"
     ]
    }
   ],
   "source": [
    "# download a csv file\n",
    "!wget https://archive.ics.uci.edu/ml/machine-learning-databases/adult/adult.data -O ../dat/adult.csv"
   ]
  },
  {
   "cell_type": "code",
   "execution_count": 7,
   "id": "d45bd2fd",
   "metadata": {},
   "outputs": [
    {
     "name": "stdout",
     "output_type": "stream",
     "text": [
      "\u001b[01;34m..\u001b[0m\r\n",
      "├── \u001b[00mLICENSE\u001b[0m\r\n",
      "├── \u001b[00mREADME.md\u001b[0m\r\n",
      "├── \u001b[01;34mdat\u001b[0m\r\n",
      "│   └── \u001b[00madult.csv\u001b[0m\r\n",
      "├── \u001b[01;34mmd\u001b[0m\r\n",
      "│   └── \u001b[00mgit-more.md\u001b[0m\r\n",
      "└── \u001b[01;34mnb\u001b[0m\r\n",
      "    └── \u001b[00munix-conda-pip.ipynb\u001b[0m\r\n",
      "\r\n",
      "3 directories, 5 files\r\n"
     ]
    }
   ],
   "source": [
    "# (fsl commented out this code for output comparison)\n",
    "# !tree .. -L 2 # check again"
   ]
  },
  {
   "cell_type": "code",
   "execution_count": 7,
   "id": "5a2e74bb",
   "metadata": {},
   "outputs": [
    {
     "name": "stdout",
     "output_type": "stream",
     "text": [
      "\u001b[01;34m..\u001b[0m\r\n",
      "├── \u001b[00mLICENSE\u001b[0m\r\n",
      "├── \u001b[00mREADME.md\u001b[0m\r\n",
      "├── \u001b[01;34mdat\u001b[0m\r\n",
      "│   └── \u001b[00madult.csv\u001b[0m\r\n",
      "├── \u001b[01;34mmd\u001b[0m\r\n",
      "│   └── \u001b[00mgit-more.md\u001b[0m\r\n",
      "└── \u001b[01;34mnb\u001b[0m\r\n",
      "    └── \u001b[00munix-conda-pip.ipynb\u001b[0m\r\n",
      "\r\n",
      "3 directories, 5 files\r\n"
     ]
    }
   ],
   "source": [
    "!tree .. -L 2 # check again"
   ]
  },
  {
   "cell_type": "markdown",
   "id": "d1c3ad4c",
   "metadata": {},
   "source": [
    "### Inspect data"
   ]
  },
  {
   "cell_type": "markdown",
   "id": "a17d9ad5",
   "metadata": {},
   "source": [
    "Let's inspect first 10 lines of data:"
   ]
  },
  {
   "cell_type": "code",
   "execution_count": 11,
   "id": "4b397608",
   "metadata": {},
   "outputs": [
    {
     "name": "stdout",
     "output_type": "stream",
     "text": [
      "39, State-gov, 77516, Bachelors, 13, Never-married, Adm-clerical, Not-in-family, White, Male, 2174, 0, 40, United-States, <=50K\r\n",
      "50, Self-emp-not-inc, 83311, Bachelors, 13, Married-civ-spouse, Exec-managerial, Husband, White, Male, 0, 0, 13, United-States, <=50K\r\n",
      "38, Private, 215646, HS-grad, 9, Divorced, Handlers-cleaners, Not-in-family, White, Male, 0, 0, 40, United-States, <=50K\r\n",
      "53, Private, 234721, 11th, 7, Married-civ-spouse, Handlers-cleaners, Husband, Black, Male, 0, 0, 40, United-States, <=50K\r\n",
      "28, Private, 338409, Bachelors, 13, Married-civ-spouse, Prof-specialty, Wife, Black, Female, 0, 0, 40, Cuba, <=50K\r\n",
      "37, Private, 284582, Masters, 14, Married-civ-spouse, Exec-managerial, Wife, White, Female, 0, 0, 40, United-States, <=50K\r\n",
      "49, Private, 160187, 9th, 5, Married-spouse-absent, Other-service, Not-in-family, Black, Female, 0, 0, 16, Jamaica, <=50K\r\n",
      "52, Self-emp-not-inc, 209642, HS-grad, 9, Married-civ-spouse, Exec-managerial, Husband, White, Male, 0, 0, 45, United-States, >50K\r\n",
      "31, Private, 45781, Masters, 14, Never-married, Prof-specialty, Not-in-family, White, Female, 14084, 0, 50, United-States, >50K\r\n",
      "42, Private, 159449, Bachelors, 13, Married-civ-spouse, Exec-managerial, Husband, White, Male, 5178, 0, 40, United-States, >50K\r\n"
     ]
    }
   ],
   "source": [
    "!head ../dat/adult.csv"
   ]
  },
  {
   "cell_type": "markdown",
   "id": "17f5a9f0",
   "metadata": {},
   "source": [
    "How about the last 3 lines? ( wait, I only see 2 lines. what's wrong? ) "
   ]
  },
  {
   "cell_type": "code",
   "execution_count": 12,
   "id": "c59382eb",
   "metadata": {},
   "outputs": [
    {
     "name": "stdout",
     "output_type": "stream",
     "text": [
      "22, Private, 201490, HS-grad, 9, Never-married, Adm-clerical, Own-child, White, Male, 0, 0, 20, United-States, <=50K\r\n",
      "52, Self-emp-inc, 287927, HS-grad, 9, Married-civ-spouse, Exec-managerial, Wife, White, Female, 15024, 0, 40, United-States, >50K\r\n",
      "\r\n"
     ]
    }
   ],
   "source": [
    "!tail -n 3 ../dat/adult.csv"
   ]
  },
  {
   "cell_type": "markdown",
   "id": "93d8f299",
   "metadata": {},
   "source": [
    "How many records are there?"
   ]
  },
  {
   "cell_type": "code",
   "execution_count": 13,
   "id": "ff9852aa",
   "metadata": {},
   "outputs": [
    {
     "name": "stdout",
     "output_type": "stream",
     "text": [
      "32562 ../dat/adult.csv\r\n"
     ]
    }
   ],
   "source": [
    "!wc -l ../dat/adult.csv"
   ]
  },
  {
   "cell_type": "markdown",
   "id": "422009f8",
   "metadata": {},
   "source": [
    "Challenge: how many columns are there?"
   ]
  },
  {
   "cell_type": "code",
   "execution_count": 14,
   "id": "195b5b57",
   "metadata": {},
   "outputs": [
    {
     "name": "stdout",
     "output_type": "stream",
     "text": [
      "15\r\n"
     ]
    }
   ],
   "source": [
    "!head -1 ../dat/adult.csv | sed 's/[^,]//g' | wc -c"
   ]
  },
  {
   "cell_type": "markdown",
   "id": "e52d18e0",
   "metadata": {},
   "source": [
    "## Conda: environment manager + package manager"
   ]
  },
  {
   "cell_type": "markdown",
   "id": "8fec4699",
   "metadata": {},
   "source": [
    "You might have heard about Anaconda / Miniconda / Miniforge:"
   ]
  },
  {
   "cell_type": "markdown",
   "id": "70b40550",
   "metadata": {},
   "source": [
    "- What is the difference between `conda` and `miniconda`? [An answer](https://stackoverflow.com/questions/45421163/anaconda-vs-miniconda).\n",
    "- What is the difference between `miniconda` and `miniforge`? [An answer](https://stackoverflow.com/questions/60532678/what-is-the-difference-between-miniconda-and-miniforge).\n",
    "\n",
    "Though Conda is considered both a package manager and an environment manager, we  focus on using it as the environment manager, and use `pip` as the package manager."
   ]
  },
  {
   "cell_type": "markdown",
   "id": "fa2f0973",
   "metadata": {},
   "source": [
    "### Installation"
   ]
  },
  {
   "cell_type": "markdown",
   "id": "aef39f0a",
   "metadata": {},
   "source": [
    "First, install `miniconda` (Feel free to skip if you have already installed it, or any flavor of conda).\n",
    "\n",
    "Run the following commands in terminal to download the lastest Miniconda distribution and install it (Mac Intel Book). \n",
    "\n",
    "    ```\n",
    "    cd ~\n",
    "    wget https://repo.anaconda.com/miniconda/Miniconda3-latest-MacOSX-x86_64.sh\n",
    "    bash Miniconda3-latest-MacOSX-x86_64.sh\n",
    "    ```\n",
    "\n",
    "For M1 chip, install `miniforge` instead. If you are new to `brew`, following instructions [here](https://brew.sh) to install Homebrew first:\n",
    "\n",
    "    ```\n",
    "    brew install miniforge\n",
    "    ```\n",
    "\n",
    "Outputs from these installations are rather long, so we ask you to run it in a terminal window instead."
   ]
  },
  {
   "cell_type": "markdown",
   "id": "4ac65956",
   "metadata": {},
   "source": [
    "Confirm that the installation is successful:"
   ]
  },
  {
   "cell_type": "code",
   "execution_count": 1,
   "id": "f8a10e9d",
   "metadata": {},
   "outputs": [
    {
     "name": "stdout",
     "output_type": "stream",
     "text": [
      "/usr/local/Caskroom/miniforge/base/bin/conda\n",
      "conda 4.12.0\n",
      "/usr/local/Caskroom/miniforge/base/bin/python\n",
      "Python 3.9.10\n"
     ]
    }
   ],
   "source": [
    "# (fsl commented out this code for output comparison)\n",
    "# %%bash\n",
    "# which conda  # where the executable conda is in my path?\n",
    "# conda -V     # which version of conda?\n",
    "# which python # where the executable python is in my path?\n",
    "# python -V    # what version of python?"
   ]
  },
  {
   "cell_type": "code",
   "execution_count": 15,
   "id": "7fbe63e9",
   "metadata": {},
   "outputs": [
    {
     "name": "stdout",
     "output_type": "stream",
     "text": [
      "/home/fsl/miniconda3/envs/mle9/bin/conda\n",
      "conda 4.13.0\n",
      "/home/fsl/miniconda3/envs/mle9/bin/python\n",
      "Python 3.9.7\n"
     ]
    }
   ],
   "source": [
    "%%bash\n",
    "which conda  # where the executable conda is in my path?\n",
    "conda -V     # which version of conda?\n",
    "which python # where the executable python is in my path?\n",
    "python -V    # what version of python?"
   ]
  },
  {
   "cell_type": "markdown",
   "id": "a6331b4b",
   "metadata": {},
   "source": [
    "### Create a new env"
   ]
  },
  {
   "cell_type": "markdown",
   "id": "b25f1463",
   "metadata": {},
   "source": [
    "Create a new conda environment named `py39_12` where you specify a python version to be 3.9.12. Note the last flag `--yes` to skip the confirmation prompt."
   ]
  },
  {
   "cell_type": "code",
   "execution_count": 2,
   "id": "212568f0",
   "metadata": {},
   "outputs": [
    {
     "name": "stdout",
     "output_type": "stream",
     "text": [
      "Collecting package metadata (current_repodata.json): done\n",
      "Solving environment: done\n",
      "\n",
      "## Package Plan ##\n",
      "\n",
      "  environment location: /usr/local/Caskroom/miniforge/base/envs/py39_12\n",
      "\n",
      "  added / updated specs:\n",
      "    - python=3.9.12\n",
      "\n",
      "\n",
      "The following NEW packages will be INSTALLED:\n",
      "\n",
      "  bzip2              conda-forge/osx-64::bzip2-1.0.8-h0d85af4_4\n",
      "  ca-certificates    conda-forge/osx-64::ca-certificates-2021.10.8-h033912b_0\n",
      "  libffi             conda-forge/osx-64::libffi-3.4.2-h0d85af4_5\n",
      "  libzlib            conda-forge/osx-64::libzlib-1.2.11-h6c3fc93_1014\n",
      "  ncurses            conda-forge/osx-64::ncurses-6.3-h96cf925_1\n",
      "  openssl            conda-forge/osx-64::openssl-3.0.2-h6c3fc93_1\n",
      "  pip                conda-forge/noarch::pip-22.0.4-pyhd8ed1ab_0\n",
      "  python             conda-forge/osx-64::python-3.9.12-h1cc4136_1_cpython\n",
      "  python_abi         conda-forge/osx-64::python_abi-3.9-2_cp39\n",
      "  readline           conda-forge/osx-64::readline-8.1-h05e3726_0\n",
      "  setuptools         conda-forge/osx-64::setuptools-62.1.0-py39h6e9494a_0\n",
      "  sqlite             conda-forge/osx-64::sqlite-3.38.2-hb516253_0\n",
      "  tk                 conda-forge/osx-64::tk-8.6.12-h5dbffcc_0\n",
      "  tzdata             conda-forge/noarch::tzdata-2022a-h191b570_0\n",
      "  wheel              conda-forge/noarch::wheel-0.37.1-pyhd8ed1ab_0\n",
      "  xz                 conda-forge/osx-64::xz-5.2.5-haf1e3a3_1\n",
      "  zlib               conda-forge/osx-64::zlib-1.2.11-h6c3fc93_1014\n",
      "\n",
      "\n",
      "Preparing transaction: done\n",
      "Verifying transaction: done\n",
      "Executing transaction: done\n",
      "#\n",
      "# To activate this environment, use\n",
      "#\n",
      "#     $ conda activate py39_12\n",
      "#\n",
      "# To deactivate an active environment, use\n",
      "#\n",
      "#     $ conda deactivate\n",
      "\n"
     ]
    }
   ],
   "source": [
    "# (fsl comment this code out for output comparison)\n",
    "# !conda create --name py39_12 python=3.9.12 --yes"
   ]
  },
  {
   "cell_type": "code",
   "execution_count": 16,
   "id": "e33d5805",
   "metadata": {},
   "outputs": [
    {
     "name": "stdout",
     "output_type": "stream",
     "text": [
      "Collecting package metadata (current_repodata.json): done\n",
      "Solving environment: done\n",
      "\n",
      "## Package Plan ##\n",
      "\n",
      "  environment location: /home/fsl/miniconda3/envs/mle9/envs/py39_12\n",
      "\n",
      "  added / updated specs:\n",
      "    - python=3.9.12\n",
      "\n",
      "\n",
      "The following packages will be downloaded:\n",
      "\n",
      "    package                    |            build\n",
      "    ---------------------------|-----------------\n",
      "    _libgcc_mutex-0.1          |             main           3 KB\n",
      "    _openmp_mutex-5.1          |            1_gnu          21 KB\n",
      "    ca-certificates-2022.07.19 |       h06a4308_0         124 KB\n",
      "    certifi-2022.6.15          |   py39h06a4308_0         153 KB\n",
      "    ld_impl_linux-64-2.38      |       h1181459_1         654 KB\n",
      "    libffi-3.3                 |       he6710b0_2          50 KB\n",
      "    libgcc-ng-11.2.0           |       h1234567_1         5.3 MB\n",
      "    libgomp-11.2.0             |       h1234567_1         474 KB\n",
      "    libstdcxx-ng-11.2.0        |       h1234567_1         4.7 MB\n",
      "    ncurses-6.3                |       h5eee18b_3         781 KB\n",
      "    openssl-1.1.1q             |       h7f8727e_0         2.5 MB\n",
      "    pip-22.1.2                 |   py39h06a4308_0         2.5 MB\n",
      "    python-3.9.12              |       h12debd9_1        19.2 MB\n",
      "    readline-8.1.2             |       h7f8727e_1         354 KB\n",
      "    setuptools-61.2.0          |   py39h06a4308_0        1011 KB\n",
      "    sqlite-3.39.2              |       h5082296_0         1.1 MB\n",
      "    tk-8.6.12                  |       h1ccaba5_0         3.0 MB\n",
      "    tzdata-2022a               |       hda174b7_0         109 KB\n",
      "    wheel-0.37.1               |     pyhd3eb1b0_0          33 KB\n",
      "    xz-5.2.5                   |       h7f8727e_1         339 KB\n",
      "    zlib-1.2.12                |       h7f8727e_2         106 KB\n",
      "    ------------------------------------------------------------\n",
      "                                           Total:        42.4 MB\n",
      "\n",
      "The following NEW packages will be INSTALLED:\n",
      "\n",
      "  _libgcc_mutex      pkgs/main/linux-64::_libgcc_mutex-0.1-main\n",
      "  _openmp_mutex      pkgs/main/linux-64::_openmp_mutex-5.1-1_gnu\n",
      "  ca-certificates    pkgs/main/linux-64::ca-certificates-2022.07.19-h06a4308_0\n",
      "  certifi            pkgs/main/linux-64::certifi-2022.6.15-py39h06a4308_0\n",
      "  ld_impl_linux-64   pkgs/main/linux-64::ld_impl_linux-64-2.38-h1181459_1\n",
      "  libffi             pkgs/main/linux-64::libffi-3.3-he6710b0_2\n",
      "  libgcc-ng          pkgs/main/linux-64::libgcc-ng-11.2.0-h1234567_1\n",
      "  libgomp            pkgs/main/linux-64::libgomp-11.2.0-h1234567_1\n",
      "  libstdcxx-ng       pkgs/main/linux-64::libstdcxx-ng-11.2.0-h1234567_1\n",
      "  ncurses            pkgs/main/linux-64::ncurses-6.3-h5eee18b_3\n",
      "  openssl            pkgs/main/linux-64::openssl-1.1.1q-h7f8727e_0\n",
      "  pip                pkgs/main/linux-64::pip-22.1.2-py39h06a4308_0\n",
      "  python             pkgs/main/linux-64::python-3.9.12-h12debd9_1\n",
      "  readline           pkgs/main/linux-64::readline-8.1.2-h7f8727e_1\n",
      "  setuptools         pkgs/main/linux-64::setuptools-61.2.0-py39h06a4308_0\n",
      "  sqlite             pkgs/main/linux-64::sqlite-3.39.2-h5082296_0\n",
      "  tk                 pkgs/main/linux-64::tk-8.6.12-h1ccaba5_0\n",
      "  tzdata             pkgs/main/noarch::tzdata-2022a-hda174b7_0\n",
      "  wheel              pkgs/main/noarch::wheel-0.37.1-pyhd3eb1b0_0\n",
      "  xz                 pkgs/main/linux-64::xz-5.2.5-h7f8727e_1\n",
      "  zlib               pkgs/main/linux-64::zlib-1.2.12-h7f8727e_2\n",
      "\n",
      "\n",
      "\n",
      "Downloading and Extracting Packages\n",
      "openssl-1.1.1q       | 2.5 MB    | ##################################### | 100% \n",
      "libgomp-11.2.0       | 474 KB    | ##################################### | 100% \n",
      "tzdata-2022a         | 109 KB    | ##################################### | 100% \n",
      "zlib-1.2.12          | 106 KB    | ##################################### | 100% \n",
      "setuptools-61.2.0    | 1011 KB   | ##################################### | 100% \n",
      "xz-5.2.5             | 339 KB    | ##################################### | 100% \n",
      "ncurses-6.3          | 781 KB    | ##################################### | 100% \n",
      "ld_impl_linux-64-2.3 | 654 KB    | ##################################### | 100% \n",
      "_libgcc_mutex-0.1    | 3 KB      | ##################################### | 100% \n",
      "sqlite-3.39.2        | 1.1 MB    | ##################################### | 100% \n",
      "pip-22.1.2           | 2.5 MB    | ##################################### | 100% \n",
      "libffi-3.3           | 50 KB     | ##################################### | 100% \n",
      "_openmp_mutex-5.1    | 21 KB     | ##################################### | 100% \n",
      "tk-8.6.12            | 3.0 MB    | ##################################### | 100% \n",
      "python-3.9.12        | 19.2 MB   | ##################################### | 100% \n",
      "libgcc-ng-11.2.0     | 5.3 MB    | ##################################### | 100% \n",
      "wheel-0.37.1         | 33 KB     | ##################################### | 100% \n",
      "ca-certificates-2022 | 124 KB    | ##################################### | 100% \n",
      "certifi-2022.6.15    | 153 KB    | ##################################### | 100% \n",
      "readline-8.1.2       | 354 KB    | ##################################### | 100% \n",
      "libstdcxx-ng-11.2.0  | 4.7 MB    | ##################################### | 100% \n",
      "Preparing transaction: done\n",
      "Verifying transaction: done\n",
      "Executing transaction: done\n",
      "#\n",
      "# To activate this environment, use\n",
      "#\n",
      "#     $ conda activate py39_12\n",
      "#\n",
      "# To deactivate an active environment, use\n",
      "#\n",
      "#     $ conda deactivate\n",
      "\n"
     ]
    }
   ],
   "source": [
    "!conda create --name py39_12 python=3.9.12 --yes"
   ]
  },
  {
   "cell_type": "code",
   "execution_count": 17,
   "id": "d0bd2f20",
   "metadata": {},
   "outputs": [
    {
     "name": "stdout",
     "output_type": "stream",
     "text": [
      "# conda environments:\r\n",
      "#\r\n",
      "                         /home/fsl/miniconda3\r\n",
      "                         /home/fsl/miniconda3/envs/ibm\r\n",
      "                         /home/fsl/miniconda3/envs/ibmex\r\n",
      "                         /home/fsl/miniconda3/envs/jpu38\r\n",
      "base                  *  /home/fsl/miniconda3/envs/mle9\r\n",
      "py39_12                  /home/fsl/miniconda3/envs/mle9/envs/py39_12\r\n",
      "\r\n"
     ]
    }
   ],
   "source": [
    "# YOU CODE HERE \n",
    "# list all environments in conda\n",
    "!conda env list"
   ]
  },
  {
   "cell_type": "markdown",
   "id": "a1efee8c",
   "metadata": {},
   "source": [
    "You shall see something like this:\n",
    "```\n",
    "# conda environments:\n",
    "#\n",
    "                         /Users/flora/miniforge3\n",
    "                         /Users/flora/miniforge3/envs/tf38\n",
    "base                  *  /usr/local/Caskroom/miniforge/base\n",
    "py39                     /usr/local/Caskroom/miniforge/base/envs/py39\n",
    "py39_12                  /usr/local/Caskroom/miniforge/base/envs/py39_12\n",
    "```"
   ]
  },
  {
   "cell_type": "markdown",
   "id": "a669545e",
   "metadata": {},
   "source": [
    "### Activate an env"
   ]
  },
  {
   "cell_type": "markdown",
   "id": "46aefe99",
   "metadata": {},
   "source": [
    "By default, you are under the `base` environment, to activate the new environement, run `conda activate py39_12` in terminal.\n",
    "\n",
    "If you are using VS code, click on the top right button to switch python kernel. You will be prompted to install `ipykernel`, follow the instructions to install the package. Or you can run `source activate`, followed by \n",
    "`conda activate /usr/local/Caskroom/miniforge/base/envs/py39_12` in a cell. \n",
    "\n",
    "If you are using jupyter notebook on a localhost (by defaut 8888), you can restart the jupyter notebook after activating the new environment.\n",
    "\n",
    "Now verify the python version:"
   ]
  },
  {
   "cell_type": "code",
   "execution_count": 1,
   "id": "265f7506",
   "metadata": {},
   "outputs": [
    {
     "name": "stdout",
     "output_type": "stream",
     "text": [
      "Python 3.9.12\n",
      "/usr/local/Caskroom/miniforge/base/envs/py39_12/bin/python\n",
      "# conda environments:\n",
      "#\n",
      "                         /Users/flora/miniforge3\n",
      "                         /Users/flora/miniforge3/envs/tf38\n",
      "base                     /usr/local/Caskroom/miniforge/base\n",
      "py39                     /usr/local/Caskroom/miniforge/base/envs/py39\n",
      "py39_12               *  /usr/local/Caskroom/miniforge/base/envs/py39_12\n",
      "\n"
     ]
    }
   ],
   "source": [
    "# (fsl comment out code to preserve output for comparison)\n",
    "# %%bash\n",
    "# \n",
    "# python --version\n",
    "# which python\n",
    "# conda env list"
   ]
  },
  {
   "cell_type": "code",
   "execution_count": 18,
   "id": "f7414f89",
   "metadata": {},
   "outputs": [
    {
     "name": "stdout",
     "output_type": "stream",
     "text": [
      "Python 3.9.7\n",
      "/home/fsl/miniconda3/envs/mle9/bin/python\n",
      "# conda environments:\n",
      "#\n",
      "                         /home/fsl/miniconda3\n",
      "                         /home/fsl/miniconda3/envs/ibm\n",
      "                         /home/fsl/miniconda3/envs/ibmex\n",
      "                         /home/fsl/miniconda3/envs/jpu38\n",
      "base                  *  /home/fsl/miniconda3/envs/mle9\n",
      "py39_12                  /home/fsl/miniconda3/envs/mle9/envs/py39_12\n",
      "\n"
     ]
    }
   ],
   "source": [
    "%%bash\n",
    "\n",
    "python --version\n",
    "which python\n",
    "conda env list"
   ]
  },
  {
   "cell_type": "markdown",
   "id": "08985441",
   "metadata": {},
   "source": [
    "<details>\n",
    "<summary>Click to see how to add the Conda env to you jupyter notebook kernels</summary>\n",
    "\n",
    "```\n",
    "pip install ipykernel\n",
    "python -m ipykernel install --user --name=py39_12\n",
    "```\n",
    "\n",
    "Next time you launch jupyter notebook, you will see `py39_12` as an option under Kernel/Change kernel.\n",
    "</details>\n",
    "\n",
    "\n"
   ]
  },
  {
   "cell_type": "markdown",
   "id": "bfc622f5",
   "metadata": {},
   "source": [
    "### Delete an env"
   ]
  },
  {
   "cell_type": "markdown",
   "id": "99ecb107",
   "metadata": {},
   "source": [
    "To keep a lean list of environments, we want to prune unused environements from time to time. Simply do the following\n",
    "```\n",
    "conda remove --name old_env --all --yes\n",
    "```"
   ]
  },
  {
   "cell_type": "markdown",
   "id": "8f3e11d0",
   "metadata": {},
   "source": [
    "## Pip: python package manager"
   ]
  },
  {
   "cell_type": "markdown",
   "id": "6e2dc9e0",
   "metadata": {},
   "source": [
    "We recommend to use pip as your python package installer/manager [(fun read on pip vs conda.)](https://stackoverflow.com/questions/20994716/what-is-the-difference-between-pip-and-conda) Note you don't have install pip explictly since it was done during the installation of miniconda/miniforge. "
   ]
  },
  {
   "cell_type": "code",
   "execution_count": 2,
   "id": "ac8585e9",
   "metadata": {},
   "outputs": [
    {
     "name": "stdout",
     "output_type": "stream",
     "text": [
      "/usr/local/Caskroom/miniforge/base/envs/py39_12/bin/pip\r\n"
     ]
    }
   ],
   "source": [
    "# (fsl comment out code to preserve output for comparison)\n",
    "# !which pip"
   ]
  },
  {
   "cell_type": "code",
   "execution_count": 20,
   "id": "07096a0a",
   "metadata": {},
   "outputs": [
    {
     "name": "stdout",
     "output_type": "stream",
     "text": [
      "/home/fsl/miniconda3/envs/mle9/bin/pip\n",
      "pip 21.2.4 from /home/fsl/miniconda3/envs/mle9/lib/python3.9/site-packages/pip (python 3.9)\n"
     ]
    }
   ],
   "source": [
    "!which pip\n",
    "!pip --version"
   ]
  },
  {
   "cell_type": "markdown",
   "id": "df4b9751",
   "metadata": {},
   "source": [
    "### Install package"
   ]
  },
  {
   "cell_type": "markdown",
   "id": "8913690d",
   "metadata": {},
   "source": [
    "We can certainly run `pip` commands the same way as earlier. Just for fun, let's try Jupyter line magic `%pip`. \n",
    "\n",
    "First make sure that we would like to have the most recent version of `pip` installed."
   ]
  },
  {
   "cell_type": "code",
   "execution_count": null,
   "id": "9b8449f2",
   "metadata": {},
   "outputs": [],
   "source": [
    "# fsl inserted cell below to verify current active env in which pip will be \n",
    "# upgraded and numpy/pandas installed (see cells +2, +3 below)"
   ]
  },
  {
   "cell_type": "code",
   "execution_count": 22,
   "id": "08f4ebbd",
   "metadata": {},
   "outputs": [
    {
     "name": "stdout",
     "output_type": "stream",
     "text": [
      "Python 3.9.7\n",
      "/home/fsl/miniconda3/envs/mle9/bin/python\n",
      "# conda environments:\n",
      "#\n",
      "                         /home/fsl/miniconda3\n",
      "                         /home/fsl/miniconda3/envs/ibm\n",
      "                         /home/fsl/miniconda3/envs/ibmex\n",
      "                         /home/fsl/miniconda3/envs/jpu38\n",
      "base                  *  /home/fsl/miniconda3/envs/mle9\n",
      "py39_12                  /home/fsl/miniconda3/envs/mle9/envs/py39_12\n",
      "\n"
     ]
    }
   ],
   "source": [
    "%%bash\n",
    "python --version\n",
    "which python\n",
    "conda env list"
   ]
  },
  {
   "cell_type": "code",
   "execution_count": 24,
   "id": "890437e4",
   "metadata": {},
   "outputs": [
    {
     "name": "stdout",
     "output_type": "stream",
     "text": [
      "/home/fsl/miniconda3/envs/mle9/bin/pip\n",
      "pip 21.2.4 from /home/fsl/miniconda3/envs/mle9/lib/python3.9/site-packages/pip (python 3.9)\n",
      "/home/fsl/miniconda3/envs/mle9/bin/ipython\n",
      "7.29.0\n",
      "# packages in environment at /home/fsl/miniconda3/envs/mle9:\n",
      "#\n",
      "# Name                    Version                   Build  Channel\n",
      "_libgcc_mutex             0.1                        main  \n",
      "_openmp_mutex             4.5                       1_gnu  \n",
      "alabaster                 0.7.12             pyhd3eb1b0_0  \n",
      "anaconda                  2021.11                  py39_0  \n",
      "anaconda-client           1.9.0            py39h06a4308_0  \n",
      "anaconda-project          0.10.1             pyhd3eb1b0_0  \n",
      "anyio                     2.2.0            py39h06a4308_1  \n",
      "appdirs                   1.4.4              pyhd3eb1b0_0  \n",
      "argh                      0.26.2           py39h06a4308_0  \n",
      "argon2-cffi               20.1.0           py39h27cfd23_1  \n",
      "arrow                     0.13.1           py39h06a4308_0  \n",
      "asn1crypto                1.4.0                      py_0  \n",
      "astroid                   2.6.6            py39h06a4308_0  \n",
      "astropy                   4.3.1            py39h09021b7_0  \n",
      "async_generator           1.10               pyhd3eb1b0_0  \n",
      "atomicwrites              1.4.0                      py_0  \n",
      "attrs                     21.2.0             pyhd3eb1b0_0  \n",
      "autopep8                  1.5.7              pyhd3eb1b0_0  \n",
      "babel                     2.9.1              pyhd3eb1b0_0  \n",
      "backcall                  0.2.0              pyhd3eb1b0_0  \n",
      "backports                 1.0                pyhd3eb1b0_2  \n",
      "backports.shutil_get_terminal_size 1.0.0              pyhd3eb1b0_3  \n",
      "beautifulsoup4            4.10.0             pyh06a4308_0  \n",
      "binaryornot               0.4.4              pyhd3eb1b0_1  \n",
      "bitarray                  2.3.0            py39h7f8727e_1  \n",
      "bkcharts                  0.2              py39h06a4308_0  \n",
      "black                     19.10b0                    py_0  \n",
      "blas                      1.0                         mkl  \n",
      "bleach                    4.0.0              pyhd3eb1b0_0  \n",
      "blosc                     1.21.0               h8c45485_0  \n",
      "bokeh                     2.4.1            py39h06a4308_0  \n",
      "boto                      2.49.0           py39h06a4308_0  \n",
      "bottleneck                1.3.2            py39hdd57654_1  \n",
      "brotli                    1.0.9                he6710b0_2  \n",
      "brotlipy                  0.7.0           py39h27cfd23_1003  \n",
      "brunsli                   0.1                  h2531618_0  \n",
      "bzip2                     1.0.8                h7b6447c_0  \n",
      "c-ares                    1.17.1               h27cfd23_0  \n",
      "ca-certificates           2021.10.26           h06a4308_2  \n",
      "cached-property           1.5.2                      py_0  \n",
      "cairo                     1.16.0               hf32fb01_1  \n",
      "certifi                   2021.10.8        py39h06a4308_0  \n",
      "cffi                      1.14.6           py39h400218f_0  \n",
      "cfitsio                   3.470                hf0d0db6_6  \n",
      "chardet                   4.0.0           py39h06a4308_1003  \n",
      "charls                    2.2.0                h2531618_0  \n",
      "charset-normalizer        2.0.4              pyhd3eb1b0_0  \n",
      "click                     8.0.3              pyhd3eb1b0_0  \n",
      "cloudpickle               2.0.0              pyhd3eb1b0_0  \n",
      "clyent                    1.2.2            py39h06a4308_1  \n",
      "colorama                  0.4.4              pyhd3eb1b0_0  \n",
      "conda                     4.13.0           py39h06a4308_0  \n",
      "conda-content-trust       0.1.1              pyhd3eb1b0_0  \n",
      "conda-pack                0.6.0              pyhd3eb1b0_0  \n",
      "conda-package-handling    1.8.1            py39h7f8727e_0  \n",
      "conda-token               0.3.0              pyhd3eb1b0_0  \n",
      "contextlib2               0.6.0.post1        pyhd3eb1b0_0  \n",
      "cookiecutter              1.7.2              pyhd3eb1b0_0  \n",
      "cryptography              3.4.8            py39hd23ed53_0  \n",
      "curl                      7.78.0               h1ccaba5_0  \n",
      "cycler                    0.10.0           py39h06a4308_0  \n",
      "cython                    0.29.24          py39hdbfa776_0  \n",
      "cytoolz                   0.11.0           py39h27cfd23_0  \n",
      "daal4py                   2021.3.0         py39hae6d005_0  \n",
      "dal                       2021.3.0           h06a4308_557  \n",
      "dask                      2021.10.0          pyhd3eb1b0_0  \n",
      "dask-core                 2021.10.0          pyhd3eb1b0_0  \n",
      "dataclasses               0.8                pyh6d0b6a4_7  \n",
      "dbus                      1.13.18              hb2f20db_0  \n",
      "debugpy                   1.4.1            py39h295c915_0  \n",
      "decorator                 5.1.0              pyhd3eb1b0_0  \n",
      "defusedxml                0.7.1              pyhd3eb1b0_0  \n",
      "diff-match-patch          20200713           pyhd3eb1b0_0  \n",
      "distributed               2021.10.0        py39h06a4308_0  \n",
      "docutils                  0.17.1           py39h06a4308_1  \n",
      "entrypoints               0.3              py39h06a4308_0  \n",
      "et_xmlfile                1.1.0            py39h06a4308_0  \n",
      "expat                     2.4.1                h2531618_2  \n",
      "fastcache                 1.1.0            py39he8ac12f_0  \n",
      "filelock                  3.3.1              pyhd3eb1b0_1  \n",
      "flake8                    3.9.2              pyhd3eb1b0_0  \n",
      "flask                     1.1.2              pyhd3eb1b0_0  \n",
      "fontconfig                2.13.1               h6c09931_0  \n",
      "fonttools                 4.25.0             pyhd3eb1b0_0  \n",
      "freetype                  2.10.4               h5ab3b9f_0  \n",
      "fribidi                   1.0.10               h7b6447c_0  \n",
      "fsspec                    2021.8.1           pyhd3eb1b0_0  \n",
      "get_terminal_size         1.0.0                haa9412d_0  \n",
      "gevent                    21.8.0           py39h7f8727e_1  \n",
      "giflib                    5.2.1                h7b6447c_0  \n",
      "glib                      2.69.1               h5202010_0  \n",
      "glob2                     0.7                pyhd3eb1b0_0  \n",
      "gmp                       6.2.1                h2531618_2  \n",
      "gmpy2                     2.0.8            py39h8083e48_3  \n",
      "graphite2                 1.3.14               h23475e2_0  \n",
      "greenlet                  1.1.1            py39h295c915_0  \n",
      "gst-plugins-base          1.14.0               h8213a91_2  \n",
      "gstreamer                 1.14.0               h28cd5cc_2  \n",
      "h5py                      3.3.0            py39h930cdd6_0  \n",
      "harfbuzz                  2.8.1                h6f93f22_0  \n",
      "hdf5                      1.10.6               hb1b8bf9_0  \n",
      "heapdict                  1.0.1              pyhd3eb1b0_0  \n",
      "html5lib                  1.1                pyhd3eb1b0_0  \n",
      "icu                       58.2                 he6710b0_3  \n",
      "idna                      3.2                pyhd3eb1b0_0  \n",
      "imagecodecs               2021.8.26        py39h4cda21f_0  \n",
      "imageio                   2.9.0              pyhd3eb1b0_0  \n",
      "imagesize                 1.2.0              pyhd3eb1b0_0  \n",
      "importlib-metadata        4.8.1            py39h06a4308_0  \n",
      "importlib_metadata        4.8.1                hd3eb1b0_0  \n",
      "inflection                0.5.1            py39h06a4308_0  \n",
      "iniconfig                 1.1.1              pyhd3eb1b0_0  \n",
      "intel-openmp              2021.4.0          h06a4308_3561  \n",
      "intervaltree              3.1.0              pyhd3eb1b0_0  \n",
      "ipykernel                 6.4.1            py39h06a4308_1  \n",
      "ipython                   7.29.0           py39hb070fc8_0  \n",
      "ipython_genutils          0.2.0              pyhd3eb1b0_1  \n",
      "ipywidgets                7.6.5              pyhd3eb1b0_1  \n",
      "isort                     5.9.3              pyhd3eb1b0_0  \n",
      "itsdangerous              2.0.1              pyhd3eb1b0_0  \n",
      "jbig                      2.1                  hdba287a_0  \n",
      "jdcal                     1.4.1              pyhd3eb1b0_0  \n",
      "jedi                      0.18.0           py39h06a4308_1  \n",
      "jeepney                   0.7.1              pyhd3eb1b0_0  \n",
      "jinja2                    2.11.3             pyhd3eb1b0_0  \n",
      "jinja2-time               0.2.0              pyhd3eb1b0_2  \n",
      "joblib                    1.1.0              pyhd3eb1b0_0  \n",
      "jpeg                      9d                   h7f8727e_0  \n",
      "json5                     0.9.6              pyhd3eb1b0_0  \n",
      "jsonschema                3.2.0              pyhd3eb1b0_2  \n",
      "jupyter                   1.0.0            py39h06a4308_7  \n",
      "jupyter_client            6.1.12             pyhd3eb1b0_0  \n",
      "jupyter_console           6.4.0              pyhd3eb1b0_0  \n",
      "jupyter_core              4.8.1            py39h06a4308_0  \n",
      "jupyter_server            1.4.1            py39h06a4308_0  \n",
      "jupyterlab                3.2.1              pyhd3eb1b0_1  \n",
      "jupyterlab_pygments       0.1.2                      py_0  \n",
      "jupyterlab_server         2.8.2              pyhd3eb1b0_0  \n",
      "jupyterlab_widgets        1.0.0              pyhd3eb1b0_1  \n",
      "jxrlib                    1.1                  h7b6447c_2  \n",
      "keyring                   23.1.0           py39h06a4308_0  \n",
      "kiwisolver                1.3.1            py39h2531618_0  \n",
      "krb5                      1.19.2               hac12032_0  \n",
      "lazy-object-proxy         1.6.0            py39h27cfd23_0  \n",
      "lcms2                     2.12                 h3be6417_0  \n",
      "ld_impl_linux-64          2.35.1               h7274673_9  \n",
      "lerc                      3.0                  h295c915_0  \n",
      "libaec                    1.0.4                he6710b0_1  \n",
      "libarchive                3.4.2                h62408e4_0  \n",
      "libcurl                   7.78.0               h0b77cf5_0  \n",
      "libdeflate                1.8                  h7f8727e_5  \n",
      "libedit                   3.1.20210910         h7f8727e_0  \n",
      "libev                     4.33                 h7f8727e_1  \n",
      "libffi                    3.3                  he6710b0_2  \n",
      "libgcc-ng                 9.3.0               h5101ec6_17  \n",
      "libgfortran-ng            7.5.0               ha8ba4b0_17  \n",
      "libgfortran4              7.5.0               ha8ba4b0_17  \n",
      "libgomp                   9.3.0               h5101ec6_17  \n",
      "liblief                   0.10.1               h2531618_1  \n",
      "libllvm11                 11.1.0               h3826bc1_0  \n",
      "libnghttp2                1.41.0               hf8bcb03_2  \n",
      "libpng                    1.6.37               hbc83047_0  \n",
      "libsodium                 1.0.18               h7b6447c_0  \n",
      "libspatialindex           1.9.3                h2531618_0  \n",
      "libssh2                   1.9.0                h1ba5d50_1  \n",
      "libstdcxx-ng              9.3.0               hd4cf53a_17  \n",
      "libtiff                   4.2.0                h85742a9_0  \n",
      "libtool                   2.4.6             h7b6447c_1005  \n",
      "libuuid                   1.0.3                h7f8727e_2  \n",
      "libuv                     1.40.0               h7b6447c_0  \n",
      "libwebp                   1.2.0                h89dd481_0  \n",
      "libwebp-base              1.2.0                h27cfd23_0  \n",
      "libxcb                    1.14                 h7b6447c_0  \n",
      "libxml2                   2.9.12               h03d6c58_0  \n",
      "libxslt                   1.1.34               hc22bd24_0  \n",
      "libzopfli                 1.0.3                he6710b0_0  \n",
      "llvmlite                  0.37.0           py39h295c915_1  \n",
      "locket                    0.2.1            py39h06a4308_1  \n",
      "lxml                      4.6.3            py39h9120a33_0  \n",
      "lz4-c                     1.9.3                h295c915_1  \n",
      "lzo                       2.10                 h7b6447c_2  \n",
      "markupsafe                1.1.1            py39h27cfd23_0  \n",
      "matplotlib                3.4.3            py39h06a4308_0  \n",
      "matplotlib-base           3.4.3            py39hbbc1b5f_0  \n",
      "matplotlib-inline         0.1.2              pyhd3eb1b0_2  \n",
      "mccabe                    0.6.1            py39h06a4308_1  \n",
      "mistune                   0.8.4           py39h27cfd23_1000  \n",
      "mkl                       2021.4.0           h06a4308_640  \n",
      "mkl-service               2.4.0            py39h7f8727e_0  \n",
      "mkl_fft                   1.3.1            py39hd3c417c_0  \n",
      "mkl_random                1.2.2            py39h51133e4_0  \n",
      "mock                      4.0.3              pyhd3eb1b0_0  \n",
      "more-itertools            8.10.0             pyhd3eb1b0_0  \n",
      "mpc                       1.1.0                h10f8cd9_1  \n",
      "mpfr                      4.0.2                hb69a4c5_1  \n",
      "mpi                       1.0                       mpich  \n",
      "mpich                     3.3.2                hc856adb_0  \n",
      "mpmath                    1.2.1            py39h06a4308_0  \n",
      "msgpack-python            1.0.2            py39hff7bd54_1  \n",
      "multipledispatch          0.6.0            py39h06a4308_0  \n",
      "munkres                   1.1.4                      py_0  \n",
      "mypy_extensions           0.4.3            py39h06a4308_0  \n",
      "nbclassic                 0.2.6              pyhd3eb1b0_0  \n",
      "nbclient                  0.5.3              pyhd3eb1b0_0  \n",
      "nbconvert                 6.1.0            py39h06a4308_0  \n",
      "nbformat                  5.1.3              pyhd3eb1b0_0  \n",
      "ncurses                   6.3                  heee7806_1  \n",
      "nest-asyncio              1.5.1              pyhd3eb1b0_0  \n",
      "networkx                  2.6.3              pyhd3eb1b0_0  \n",
      "nltk                      3.6.5              pyhd3eb1b0_0  \n",
      "nose                      1.3.7           pyhd3eb1b0_1006  \n",
      "notebook                  6.4.5            py39h06a4308_0  \n",
      "numba                     0.54.1           py39h51133e4_0  \n",
      "numexpr                   2.7.3            py39h22e1b3c_1  \n",
      "numpy                     1.20.3           py39hf144106_0  \n",
      "numpy-base                1.20.3           py39h74d4b33_0  \n",
      "numpydoc                  1.1.0              pyhd3eb1b0_1  \n",
      "olefile                   0.46               pyhd3eb1b0_0  \n",
      "openjpeg                  2.4.0                h3ad879b_0  \n",
      "openpyxl                  3.0.9              pyhd3eb1b0_0  \n",
      "openssl                   1.1.1l               h7f8727e_0  \n",
      "packaging                 21.0               pyhd3eb1b0_0  \n",
      "pandas                    1.3.4            py39h8c16a72_0  \n",
      "pandocfilters             1.4.3            py39h06a4308_1  \n",
      "pango                     1.45.3               hd140c19_0  \n",
      "parso                     0.8.2              pyhd3eb1b0_0  \n",
      "partd                     1.2.0              pyhd3eb1b0_0  \n",
      "patchelf                  0.13                 h295c915_0  \n",
      "path                      16.0.0           py39h06a4308_0  \n",
      "path.py                   12.5.0               hd3eb1b0_0  \n",
      "pathlib2                  2.3.6            py39h06a4308_2  \n",
      "pathspec                  0.7.0                      py_0  \n",
      "patsy                     0.5.2            py39h06a4308_0  \n",
      "pcre                      8.45                 h295c915_0  \n",
      "pep8                      1.7.1            py39h06a4308_0  \n",
      "pexpect                   4.8.0              pyhd3eb1b0_3  \n",
      "pickleshare               0.7.5           pyhd3eb1b0_1003  \n",
      "pillow                    8.4.0            py39h5aabda8_0  \n",
      "pip                       21.2.4           py39h06a4308_0  \n",
      "pixman                    0.40.0               h7f8727e_1  \n",
      "pkginfo                   1.7.1            py39h06a4308_0  \n",
      "pluggy                    0.13.1           py39h06a4308_0  \n",
      "ply                       3.11             py39h06a4308_0  \n",
      "poyo                      0.5.0              pyhd3eb1b0_0  \n",
      "prometheus_client         0.11.0             pyhd3eb1b0_0  \n",
      "prompt-toolkit            3.0.20             pyhd3eb1b0_0  \n",
      "prompt_toolkit            3.0.20               hd3eb1b0_0  \n",
      "psutil                    5.8.0            py39h27cfd23_1  \n",
      "ptyprocess                0.7.0              pyhd3eb1b0_2  \n",
      "py                        1.10.0             pyhd3eb1b0_0  \n",
      "py-lief                   0.10.1           py39h2531618_1  \n",
      "pycodestyle               2.7.0              pyhd3eb1b0_0  \n",
      "pycosat                   0.6.3            py39h27cfd23_0  \n",
      "pycparser                 2.20                       py_2  \n",
      "pycurl                    7.44.1           py39h8f2d780_1  \n",
      "pydocstyle                6.1.1              pyhd3eb1b0_0  \n",
      "pyerfa                    2.0.0            py39h27cfd23_0  \n",
      "pyflakes                  2.3.1              pyhd3eb1b0_0  \n",
      "pygments                  2.10.0             pyhd3eb1b0_0  \n",
      "pylint                    2.9.6            py39h06a4308_1  \n",
      "pyls-spyder               0.4.0              pyhd3eb1b0_0  \n",
      "pyodbc                    4.0.31           py39h295c915_0  \n",
      "pyopenssl                 21.0.0             pyhd3eb1b0_1  \n",
      "pyparsing                 3.0.4              pyhd3eb1b0_0  \n",
      "pyqt                      5.9.2            py39h2531618_6  \n",
      "pyrsistent                0.18.0           py39heee7806_0  \n",
      "pysocks                   1.7.1            py39h06a4308_0  \n",
      "pytables                  3.6.1            py39h77479fe_1  \n",
      "pytest                    6.2.4            py39h06a4308_2  \n",
      "python                    3.9.7                h12debd9_1  \n",
      "python-dateutil           2.8.2              pyhd3eb1b0_0  \n",
      "python-libarchive-c       2.9                pyhd3eb1b0_1  \n",
      "python-lsp-black          1.0.0              pyhd3eb1b0_0  \n",
      "python-lsp-jsonrpc        1.0.0              pyhd3eb1b0_0  \n",
      "python-lsp-server         1.2.4              pyhd3eb1b0_0  \n",
      "python-slugify            5.0.2              pyhd3eb1b0_0  \n",
      "pytz                      2021.3             pyhd3eb1b0_0  \n",
      "pywavelets                1.1.1            py39h6323ea4_4  \n",
      "pyxdg                     0.27               pyhd3eb1b0_0  \n",
      "pyyaml                    6.0              py39h7f8727e_1  \n",
      "pyzmq                     22.2.1           py39h295c915_1  \n",
      "qdarkstyle                3.0.2              pyhd3eb1b0_0  \n",
      "qstylizer                 0.1.10             pyhd3eb1b0_0  \n",
      "qt                        5.9.7                h5867ecd_1  \n",
      "qtawesome                 1.0.2              pyhd3eb1b0_0  \n",
      "qtconsole                 5.1.1              pyhd3eb1b0_0  \n",
      "qtpy                      1.10.0             pyhd3eb1b0_0  \n",
      "readline                  8.1                  h27cfd23_0  \n",
      "regex                     2021.8.3         py39h7f8727e_0  \n",
      "requests                  2.26.0             pyhd3eb1b0_0  \n",
      "ripgrep                   12.1.1                        0  \n",
      "rope                      0.19.0             pyhd3eb1b0_0  \n",
      "rtree                     0.9.7            py39h06a4308_1  \n",
      "ruamel_yaml               0.15.100         py39h27cfd23_0  \n",
      "scikit-image              0.18.3           py39h51133e4_0  \n",
      "scikit-learn              0.24.2           py39ha9443f7_0  \n",
      "scikit-learn-intelex      2021.3.0         py39h06a4308_0  \n",
      "scipy                     1.7.1            py39h292c36d_2  \n",
      "seaborn                   0.11.2             pyhd3eb1b0_0  \n",
      "secretstorage             3.3.1            py39h06a4308_0  \n",
      "send2trash                1.8.0              pyhd3eb1b0_1  \n",
      "setuptools                58.0.4           py39h06a4308_0  \n",
      "simplegeneric             0.8.1            py39h06a4308_2  \n",
      "singledispatch            3.7.0           pyhd3eb1b0_1001  \n",
      "sip                       4.19.13          py39h2531618_0  \n",
      "six                       1.16.0             pyhd3eb1b0_0  \n",
      "snappy                    1.1.8                he6710b0_0  \n",
      "sniffio                   1.2.0            py39h06a4308_1  \n",
      "snowballstemmer           2.1.0              pyhd3eb1b0_0  \n",
      "sortedcollections         2.1.0              pyhd3eb1b0_0  \n",
      "sortedcontainers          2.4.0              pyhd3eb1b0_0  \n",
      "soupsieve                 2.2.1              pyhd3eb1b0_0  \n",
      "sphinx                    4.2.0              pyhd3eb1b0_1  \n",
      "sphinxcontrib             1.0              py39h06a4308_1  \n",
      "sphinxcontrib-applehelp   1.0.2              pyhd3eb1b0_0  \n",
      "sphinxcontrib-devhelp     1.0.2              pyhd3eb1b0_0  \n",
      "sphinxcontrib-htmlhelp    2.0.0              pyhd3eb1b0_0  \n",
      "sphinxcontrib-jsmath      1.0.1              pyhd3eb1b0_0  \n",
      "sphinxcontrib-qthelp      1.0.3              pyhd3eb1b0_0  \n",
      "sphinxcontrib-serializinghtml 1.1.5              pyhd3eb1b0_0  \n",
      "sphinxcontrib-websupport  1.2.4                      py_0  \n",
      "spyder                    5.1.5            py39h06a4308_1  \n",
      "spyder-kernels            2.1.3            py39h06a4308_0  \n",
      "sqlalchemy                1.4.22           py39h7f8727e_0  \n",
      "sqlite                    3.36.0               hc218d9a_0  \n",
      "statsmodels               0.12.2           py39h27cfd23_0  \n",
      "sympy                     1.9              py39h06a4308_0  \n",
      "tbb                       2021.4.0             hd09550d_0  \n",
      "tbb4py                    2021.4.0         py39hd09550d_0  \n",
      "tblib                     1.7.0              pyhd3eb1b0_0  \n",
      "terminado                 0.9.4            py39h06a4308_0  \n",
      "testpath                  0.5.0              pyhd3eb1b0_0  \n",
      "text-unidecode            1.3                pyhd3eb1b0_0  \n",
      "textdistance              4.2.1              pyhd3eb1b0_0  \n",
      "threadpoolctl             2.2.0              pyh0d69192_0  \n",
      "three-merge               0.1.1              pyhd3eb1b0_0  \n",
      "tifffile                  2021.7.2           pyhd3eb1b0_2  \n",
      "tinycss                   0.4             pyhd3eb1b0_1002  \n",
      "tk                        8.6.11               h1ccaba5_0  \n",
      "toml                      0.10.2             pyhd3eb1b0_0  \n",
      "toolz                     0.11.1             pyhd3eb1b0_0  \n",
      "tornado                   6.1              py39h27cfd23_0  \n",
      "tqdm                      4.62.3             pyhd3eb1b0_1  \n",
      "traitlets                 5.1.0              pyhd3eb1b0_0  \n",
      "typed-ast                 1.4.3            py39h7f8727e_1  \n",
      "typing_extensions         3.10.0.2           pyh06a4308_0  \n",
      "tzdata                    2021e                hda174b7_0  \n",
      "ujson                     4.0.2            py39h2531618_0  \n",
      "unicodecsv                0.14.1           py39h06a4308_0  \n",
      "unidecode                 1.2.0              pyhd3eb1b0_0  \n",
      "unixodbc                  2.3.9                h7b6447c_0  \n",
      "urllib3                   1.26.7             pyhd3eb1b0_0  \n",
      "watchdog                  2.1.3            py39h06a4308_0  \n",
      "wcwidth                   0.2.5              pyhd3eb1b0_0  \n",
      "webencodings              0.5.1            py39h06a4308_1  \n",
      "werkzeug                  2.0.2              pyhd3eb1b0_0  \n",
      "wheel                     0.37.0             pyhd3eb1b0_1  \n",
      "whichcraft                0.6.1              pyhd3eb1b0_0  \n",
      "widgetsnbextension        3.5.1            py39h06a4308_0  \n",
      "wrapt                     1.12.1           py39he8ac12f_1  \n",
      "wurlitzer                 2.1.1            py39h06a4308_0  \n",
      "xlrd                      2.0.1              pyhd3eb1b0_0  \n",
      "xlsxwriter                3.0.1              pyhd3eb1b0_0  \n",
      "xlwt                      1.3.0            py39h06a4308_0  \n",
      "xz                        5.2.5                h7b6447c_0  \n",
      "yaml                      0.2.5                h7b6447c_0  \n",
      "yapf                      0.31.0             pyhd3eb1b0_0  \n",
      "zeromq                    4.3.4                h2531618_0  \n",
      "zfp                       0.5.5                h2531618_6  \n",
      "zict                      2.0.0              pyhd3eb1b0_0  \n",
      "zipp                      3.6.0              pyhd3eb1b0_0  \n",
      "zlib                      1.2.11               h7b6447c_3  \n",
      "zope                      1.0              py39h06a4308_1  \n",
      "zope.event                4.5.0            py39h06a4308_0  \n",
      "zope.interface            5.4.0            py39h7f8727e_0  \n",
      "zstd                      1.4.9                haebb681_0  \n"
     ]
    }
   ],
   "source": [
    "%%bash\n",
    "which pip\n",
    "pip --version\n",
    "\n",
    "which ipython\n",
    "ipython --version\n",
    "\n",
    "conda list"
   ]
  },
  {
   "cell_type": "code",
   "execution_count": 34,
   "id": "854326db",
   "metadata": {},
   "outputs": [
    {
     "name": "stdout",
     "output_type": "stream",
     "text": [
      "/home/fsl/miniconda3/envs/mle9/bin/conda\n",
      "conda 4.13.0\n",
      "# packages in environment at /home/fsl/miniconda3/envs/mle9:\n",
      "#\n",
      "# Name                    Version                   Build  Channel\n",
      "numpy                     1.20.3           py39hf144106_0  \n",
      "numpy-base                1.20.3           py39h74d4b33_0  \n",
      "numpydoc                  1.1.0              pyhd3eb1b0_1  \n",
      "# packages in environment at /home/fsl/miniconda3/envs/mle9:\n",
      "#\n",
      "# Name                    Version                   Build  Channel\n",
      "pandas                    1.3.4            py39h8c16a72_0  \n"
     ]
    },
    {
     "name": "stderr",
     "output_type": "stream",
     "text": [
      "bash: line 4: numpy: command not found\n",
      "bash: line 6: pandas: command not found\n"
     ]
    }
   ],
   "source": [
    "%%bash\n",
    "which conda\n",
    "conda --version\n",
    "which numpy\n",
    "numpy --version\n",
    "which pandas\n",
    "pandas --version\n",
    "conda list numpy\n",
    "conda list pandas"
   ]
  },
  {
   "cell_type": "markdown",
   "id": "2b4ed669",
   "metadata": {},
   "source": [
    "### (fsl) skipping pip-upgrading pip below since just created conda mle9 env using miniconda  \n",
    "(with anaconda = 2021.11)"
   ]
  },
  {
   "cell_type": "code",
   "execution_count": 3,
   "id": "f10cab48",
   "metadata": {},
   "outputs": [
    {
     "name": "stdout",
     "output_type": "stream",
     "text": [
      "Requirement already satisfied: pip in /Users/flora/miniforge3/envs/tf38/lib/python3.8/site-packages (22.0.4)\n",
      "Note: you may need to restart the kernel to use updated packages.\n"
     ]
    }
   ],
   "source": [
    "# %pip install --upgrade pip"
   ]
  },
  {
   "cell_type": "markdown",
   "id": "e451c5d5",
   "metadata": {},
   "source": [
    "### (fsl) also skipping pip-installing numpy, pandas since just created conda mle9 env using miniconda\n",
    "(with anaconda = 2021.11)"
   ]
  },
  {
   "cell_type": "code",
   "execution_count": 4,
   "id": "6f5a19b8",
   "metadata": {},
   "outputs": [
    {
     "name": "stdout",
     "output_type": "stream",
     "text": [
      "Collecting numpy\n",
      "  Downloading numpy-1.22.3-cp38-cp38-macosx_11_0_arm64.whl (12.7 MB)\n",
      "\u001b[2K     \u001b[90m━━━━━━━━━━━━━━━━━━━━━━━━━━━━━━━━━━━━━━━━\u001b[0m \u001b[32m12.7/12.7 MB\u001b[0m \u001b[31m6.3 MB/s\u001b[0m eta \u001b[36m0:00:00\u001b[0m00:01\u001b[0m00:01\u001b[0m\n",
      "\u001b[?25hCollecting pandas\n",
      "  Downloading pandas-1.4.2-cp38-cp38-macosx_11_0_arm64.whl (9.9 MB)\n",
      "\u001b[2K     \u001b[90m━━━━━━━━━━━━━━━━━━━━━━━━━━━━━━━━━━━━━━━━\u001b[0m \u001b[32m9.9/9.9 MB\u001b[0m \u001b[31m6.1 MB/s\u001b[0m eta \u001b[36m0:00:00\u001b[0m00:01\u001b[0m00:01\u001b[0m\n",
      "\u001b[?25hRequirement already satisfied: pytz>=2020.1 in /Users/flora/miniforge3/envs/tf38/lib/python3.8/site-packages (from pandas) (2021.3)\n",
      "Requirement already satisfied: python-dateutil>=2.8.1 in /Users/flora/miniforge3/envs/tf38/lib/python3.8/site-packages (from pandas) (2.8.2)\n",
      "Requirement already satisfied: six>=1.5 in /Users/flora/miniforge3/envs/tf38/lib/python3.8/site-packages (from python-dateutil>=2.8.1->pandas) (1.15.0)\n",
      "Installing collected packages: numpy, pandas\n",
      "Successfully installed numpy-1.22.3 pandas-1.4.2\n",
      "Note: you may need to restart the kernel to use updated packages.\n"
     ]
    }
   ],
   "source": [
    "# %pip install numpy pandas"
   ]
  },
  {
   "cell_type": "markdown",
   "id": "b23b1338",
   "metadata": {},
   "source": [
    "Now you can use these packages:"
   ]
  },
  {
   "cell_type": "markdown",
   "id": "326d17f9",
   "metadata": {},
   "source": [
    "# Allowing multiple outputs to a single cell (USEFUL!)"
   ]
  },
  {
   "cell_type": "code",
   "execution_count": 32,
   "id": "5e863b17",
   "metadata": {},
   "outputs": [],
   "source": [
    "# allow multiple outputs in a single cell\n",
    "from IPython.core.interactiveshell import InteractiveShell\n",
    "InteractiveShell.ast_node_interactivity = \"all\""
   ]
  },
  {
   "cell_type": "code",
   "execution_count": 27,
   "id": "88f533d8",
   "metadata": {},
   "outputs": [
    {
     "name": "stdout",
     "output_type": "stream",
     "text": [
      "x =  [0.17413963 0.01740868 0.01609784 0.67666189 0.01322551 0.46642191\n",
      " 0.26925339 0.69823748 0.62945049 0.99911869]\n"
     ]
    }
   ],
   "source": [
    "import numpy as np\n",
    "\n",
    "# create a numpy array with random numbers\n",
    "x = np.random.rand(10)\n",
    "x.shape\n",
    "x.reshape((5,-1))\n",
    "print('x = ', x)"
   ]
  },
  {
   "cell_type": "code",
   "execution_count": 28,
   "id": "77844449",
   "metadata": {},
   "outputs": [
    {
     "data": {
      "text/plain": [
       "array([[0.174, 0.017],\n",
       "       [0.016, 0.677],\n",
       "       [0.013, 0.466],\n",
       "       [0.269, 0.698],\n",
       "       [0.629, 0.999]])"
      ]
     },
     "execution_count": 28,
     "metadata": {},
     "output_type": "execute_result"
    }
   ],
   "source": [
    "%precision 3\n",
    "x.reshape((5,-1))"
   ]
  },
  {
   "cell_type": "code",
   "execution_count": 33,
   "id": "c3777c14",
   "metadata": {},
   "outputs": [
    {
     "data": {
      "text/html": [
       "<div>\n",
       "<style scoped>\n",
       "    .dataframe tbody tr th:only-of-type {\n",
       "        vertical-align: middle;\n",
       "    }\n",
       "\n",
       "    .dataframe tbody tr th {\n",
       "        vertical-align: top;\n",
       "    }\n",
       "\n",
       "    .dataframe thead th {\n",
       "        text-align: right;\n",
       "    }\n",
       "</style>\n",
       "<table border=\"1\" class=\"dataframe\">\n",
       "  <thead>\n",
       "    <tr style=\"text-align: right;\">\n",
       "      <th></th>\n",
       "      <th>0</th>\n",
       "      <th>1</th>\n",
       "      <th>2</th>\n",
       "      <th>3</th>\n",
       "      <th>4</th>\n",
       "      <th>5</th>\n",
       "      <th>6</th>\n",
       "      <th>7</th>\n",
       "      <th>8</th>\n",
       "      <th>9</th>\n",
       "      <th>10</th>\n",
       "      <th>11</th>\n",
       "      <th>12</th>\n",
       "      <th>13</th>\n",
       "      <th>14</th>\n",
       "    </tr>\n",
       "  </thead>\n",
       "  <tbody>\n",
       "    <tr>\n",
       "      <th>0</th>\n",
       "      <td>39</td>\n",
       "      <td>State-gov</td>\n",
       "      <td>77516</td>\n",
       "      <td>Bachelors</td>\n",
       "      <td>13</td>\n",
       "      <td>Never-married</td>\n",
       "      <td>Adm-clerical</td>\n",
       "      <td>Not-in-family</td>\n",
       "      <td>White</td>\n",
       "      <td>Male</td>\n",
       "      <td>2174</td>\n",
       "      <td>0</td>\n",
       "      <td>40</td>\n",
       "      <td>United-States</td>\n",
       "      <td>&lt;=50K</td>\n",
       "    </tr>\n",
       "    <tr>\n",
       "      <th>1</th>\n",
       "      <td>50</td>\n",
       "      <td>Self-emp-not-inc</td>\n",
       "      <td>83311</td>\n",
       "      <td>Bachelors</td>\n",
       "      <td>13</td>\n",
       "      <td>Married-civ-spouse</td>\n",
       "      <td>Exec-managerial</td>\n",
       "      <td>Husband</td>\n",
       "      <td>White</td>\n",
       "      <td>Male</td>\n",
       "      <td>0</td>\n",
       "      <td>0</td>\n",
       "      <td>13</td>\n",
       "      <td>United-States</td>\n",
       "      <td>&lt;=50K</td>\n",
       "    </tr>\n",
       "    <tr>\n",
       "      <th>2</th>\n",
       "      <td>38</td>\n",
       "      <td>Private</td>\n",
       "      <td>215646</td>\n",
       "      <td>HS-grad</td>\n",
       "      <td>9</td>\n",
       "      <td>Divorced</td>\n",
       "      <td>Handlers-cleaners</td>\n",
       "      <td>Not-in-family</td>\n",
       "      <td>White</td>\n",
       "      <td>Male</td>\n",
       "      <td>0</td>\n",
       "      <td>0</td>\n",
       "      <td>40</td>\n",
       "      <td>United-States</td>\n",
       "      <td>&lt;=50K</td>\n",
       "    </tr>\n",
       "    <tr>\n",
       "      <th>3</th>\n",
       "      <td>53</td>\n",
       "      <td>Private</td>\n",
       "      <td>234721</td>\n",
       "      <td>11th</td>\n",
       "      <td>7</td>\n",
       "      <td>Married-civ-spouse</td>\n",
       "      <td>Handlers-cleaners</td>\n",
       "      <td>Husband</td>\n",
       "      <td>Black</td>\n",
       "      <td>Male</td>\n",
       "      <td>0</td>\n",
       "      <td>0</td>\n",
       "      <td>40</td>\n",
       "      <td>United-States</td>\n",
       "      <td>&lt;=50K</td>\n",
       "    </tr>\n",
       "    <tr>\n",
       "      <th>4</th>\n",
       "      <td>28</td>\n",
       "      <td>Private</td>\n",
       "      <td>338409</td>\n",
       "      <td>Bachelors</td>\n",
       "      <td>13</td>\n",
       "      <td>Married-civ-spouse</td>\n",
       "      <td>Prof-specialty</td>\n",
       "      <td>Wife</td>\n",
       "      <td>Black</td>\n",
       "      <td>Female</td>\n",
       "      <td>0</td>\n",
       "      <td>0</td>\n",
       "      <td>40</td>\n",
       "      <td>Cuba</td>\n",
       "      <td>&lt;=50K</td>\n",
       "    </tr>\n",
       "  </tbody>\n",
       "</table>\n",
       "</div>"
      ],
      "text/plain": [
       "   0                  1       2           3   4                    5   \\\n",
       "0  39          State-gov   77516   Bachelors  13        Never-married   \n",
       "1  50   Self-emp-not-inc   83311   Bachelors  13   Married-civ-spouse   \n",
       "2  38            Private  215646     HS-grad   9             Divorced   \n",
       "3  53            Private  234721        11th   7   Married-civ-spouse   \n",
       "4  28            Private  338409   Bachelors  13   Married-civ-spouse   \n",
       "\n",
       "                   6               7       8        9     10  11  12  \\\n",
       "0        Adm-clerical   Not-in-family   White     Male  2174   0  40   \n",
       "1     Exec-managerial         Husband   White     Male     0   0  13   \n",
       "2   Handlers-cleaners   Not-in-family   White     Male     0   0  40   \n",
       "3   Handlers-cleaners         Husband   Black     Male     0   0  40   \n",
       "4      Prof-specialty            Wife   Black   Female     0   0  40   \n",
       "\n",
       "               13      14  \n",
       "0   United-States   <=50K  \n",
       "1   United-States   <=50K  \n",
       "2   United-States   <=50K  \n",
       "3   United-States   <=50K  \n",
       "4            Cuba   <=50K  "
      ]
     },
     "execution_count": 33,
     "metadata": {},
     "output_type": "execute_result"
    },
    {
     "data": {
      "text/html": [
       "<div>\n",
       "<style scoped>\n",
       "    .dataframe tbody tr th:only-of-type {\n",
       "        vertical-align: middle;\n",
       "    }\n",
       "\n",
       "    .dataframe tbody tr th {\n",
       "        vertical-align: top;\n",
       "    }\n",
       "\n",
       "    .dataframe thead th {\n",
       "        text-align: right;\n",
       "    }\n",
       "</style>\n",
       "<table border=\"1\" class=\"dataframe\">\n",
       "  <thead>\n",
       "    <tr style=\"text-align: right;\">\n",
       "      <th></th>\n",
       "      <th>0</th>\n",
       "      <th>1</th>\n",
       "      <th>2</th>\n",
       "      <th>3</th>\n",
       "      <th>4</th>\n",
       "      <th>5</th>\n",
       "      <th>6</th>\n",
       "      <th>7</th>\n",
       "      <th>8</th>\n",
       "      <th>9</th>\n",
       "      <th>10</th>\n",
       "      <th>11</th>\n",
       "      <th>12</th>\n",
       "      <th>13</th>\n",
       "      <th>14</th>\n",
       "    </tr>\n",
       "  </thead>\n",
       "  <tbody>\n",
       "    <tr>\n",
       "      <th>32556</th>\n",
       "      <td>27</td>\n",
       "      <td>Private</td>\n",
       "      <td>257302</td>\n",
       "      <td>Assoc-acdm</td>\n",
       "      <td>12</td>\n",
       "      <td>Married-civ-spouse</td>\n",
       "      <td>Tech-support</td>\n",
       "      <td>Wife</td>\n",
       "      <td>White</td>\n",
       "      <td>Female</td>\n",
       "      <td>0</td>\n",
       "      <td>0</td>\n",
       "      <td>38</td>\n",
       "      <td>United-States</td>\n",
       "      <td>&lt;=50K</td>\n",
       "    </tr>\n",
       "    <tr>\n",
       "      <th>32557</th>\n",
       "      <td>40</td>\n",
       "      <td>Private</td>\n",
       "      <td>154374</td>\n",
       "      <td>HS-grad</td>\n",
       "      <td>9</td>\n",
       "      <td>Married-civ-spouse</td>\n",
       "      <td>Machine-op-inspct</td>\n",
       "      <td>Husband</td>\n",
       "      <td>White</td>\n",
       "      <td>Male</td>\n",
       "      <td>0</td>\n",
       "      <td>0</td>\n",
       "      <td>40</td>\n",
       "      <td>United-States</td>\n",
       "      <td>&gt;50K</td>\n",
       "    </tr>\n",
       "    <tr>\n",
       "      <th>32558</th>\n",
       "      <td>58</td>\n",
       "      <td>Private</td>\n",
       "      <td>151910</td>\n",
       "      <td>HS-grad</td>\n",
       "      <td>9</td>\n",
       "      <td>Widowed</td>\n",
       "      <td>Adm-clerical</td>\n",
       "      <td>Unmarried</td>\n",
       "      <td>White</td>\n",
       "      <td>Female</td>\n",
       "      <td>0</td>\n",
       "      <td>0</td>\n",
       "      <td>40</td>\n",
       "      <td>United-States</td>\n",
       "      <td>&lt;=50K</td>\n",
       "    </tr>\n",
       "    <tr>\n",
       "      <th>32559</th>\n",
       "      <td>22</td>\n",
       "      <td>Private</td>\n",
       "      <td>201490</td>\n",
       "      <td>HS-grad</td>\n",
       "      <td>9</td>\n",
       "      <td>Never-married</td>\n",
       "      <td>Adm-clerical</td>\n",
       "      <td>Own-child</td>\n",
       "      <td>White</td>\n",
       "      <td>Male</td>\n",
       "      <td>0</td>\n",
       "      <td>0</td>\n",
       "      <td>20</td>\n",
       "      <td>United-States</td>\n",
       "      <td>&lt;=50K</td>\n",
       "    </tr>\n",
       "    <tr>\n",
       "      <th>32560</th>\n",
       "      <td>52</td>\n",
       "      <td>Self-emp-inc</td>\n",
       "      <td>287927</td>\n",
       "      <td>HS-grad</td>\n",
       "      <td>9</td>\n",
       "      <td>Married-civ-spouse</td>\n",
       "      <td>Exec-managerial</td>\n",
       "      <td>Wife</td>\n",
       "      <td>White</td>\n",
       "      <td>Female</td>\n",
       "      <td>15024</td>\n",
       "      <td>0</td>\n",
       "      <td>40</td>\n",
       "      <td>United-States</td>\n",
       "      <td>&gt;50K</td>\n",
       "    </tr>\n",
       "  </tbody>\n",
       "</table>\n",
       "</div>"
      ],
      "text/plain": [
       "       0              1       2            3   4                    5   \\\n",
       "32556  27        Private  257302   Assoc-acdm  12   Married-civ-spouse   \n",
       "32557  40        Private  154374      HS-grad   9   Married-civ-spouse   \n",
       "32558  58        Private  151910      HS-grad   9              Widowed   \n",
       "32559  22        Private  201490      HS-grad   9        Never-married   \n",
       "32560  52   Self-emp-inc  287927      HS-grad   9   Married-civ-spouse   \n",
       "\n",
       "                       6           7       8        9      10  11  12  \\\n",
       "32556        Tech-support        Wife   White   Female      0   0  38   \n",
       "32557   Machine-op-inspct     Husband   White     Male      0   0  40   \n",
       "32558        Adm-clerical   Unmarried   White   Female      0   0  40   \n",
       "32559        Adm-clerical   Own-child   White     Male      0   0  20   \n",
       "32560     Exec-managerial        Wife   White   Female  15024   0  40   \n",
       "\n",
       "                   13      14  \n",
       "32556   United-States   <=50K  \n",
       "32557   United-States    >50K  \n",
       "32558   United-States   <=50K  \n",
       "32559   United-States   <=50K  \n",
       "32560   United-States    >50K  "
      ]
     },
     "execution_count": 33,
     "metadata": {},
     "output_type": "execute_result"
    },
    {
     "data": {
      "text/plain": [
       "(32561, 15)"
      ]
     },
     "execution_count": 33,
     "metadata": {},
     "output_type": "execute_result"
    }
   ],
   "source": [
    "import pandas as pd\n",
    "census_df = pd.read_csv(filepath_or_buffer='../dat/adult.csv', header = None)\n",
    "census_df.head()\n",
    "census_df.tail()\n",
    "census_df.shape"
   ]
  },
  {
   "cell_type": "markdown",
   "id": "d99563f1",
   "metadata": {},
   "source": [
    "### Uninstall packages"
   ]
  },
  {
   "cell_type": "code",
   "execution_count": 9,
   "id": "cd13cba4",
   "metadata": {},
   "outputs": [
    {
     "name": "stdout",
     "output_type": "stream",
     "text": [
      "Found existing installation: numpy 1.22.3\n",
      "Uninstalling numpy-1.22.3:\n",
      "  Successfully uninstalled numpy-1.22.3\n",
      "Found existing installation: pandas 1.4.2\n",
      "Uninstalling pandas-1.4.2:\n",
      "  Successfully uninstalled pandas-1.4.2\n",
      "Note: you may need to restart the kernel to use updated packages.\n"
     ]
    }
   ],
   "source": [
    "# Uninstall a package\n",
    "# %pip uninstall numpy pandas --yes"
   ]
  },
  {
   "cell_type": "code",
   "execution_count": 10,
   "id": "3dba9166",
   "metadata": {},
   "outputs": [
    {
     "name": "stdout",
     "output_type": "stream",
     "text": [
      "Files removed: 5\n",
      "Note: you may need to restart the kernel to use updated packages.\n"
     ]
    }
   ],
   "source": [
    "# %pip cache purge"
   ]
  }
 ],
 "metadata": {
  "interpreter": {
   "hash": "5927eeb448d79922bc8ff2e0b29f33a28322850e36c32320028d81390f797ebb"
  },
  "kernelspec": {
   "display_name": "Python 3 (ipykernel)",
   "language": "python",
   "name": "python3"
  },
  "language_info": {
   "codemirror_mode": {
    "name": "ipython",
    "version": 3
   },
   "file_extension": ".py",
   "mimetype": "text/x-python",
   "name": "python",
   "nbconvert_exporter": "python",
   "pygments_lexer": "ipython3",
   "version": "3.9.7"
  },
  "toc": {
   "base_numbering": 1,
   "nav_menu": {
    "height": "280px",
    "width": "266px"
   },
   "number_sections": true,
   "sideBar": true,
   "skip_h1_title": false,
   "title_cell": "Table of Contents",
   "title_sidebar": "Contents",
   "toc_cell": false,
   "toc_position": {},
   "toc_section_display": true,
   "toc_window_display": true
  }
 },
 "nbformat": 4,
 "nbformat_minor": 5
}
